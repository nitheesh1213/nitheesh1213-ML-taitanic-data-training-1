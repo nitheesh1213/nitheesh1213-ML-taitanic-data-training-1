{
  "nbformat": 4,
  "nbformat_minor": 0,
  "metadata": {
    "colab": {
      "name": "Kmeans_HW4.ipynb",
      "provenance": [],
      "authorship_tag": "ABX9TyNuV69XgsV5dRXI2QsdOh1x",
      "include_colab_link": true
    },
    "kernelspec": {
      "name": "python3",
      "display_name": "Python 3"
    },
    "language_info": {
      "name": "python"
    }
  },
  "cells": [
    {
      "cell_type": "markdown",
      "metadata": {
        "id": "view-in-github",
        "colab_type": "text"
      },
      "source": [
        "<a href=\"https://colab.research.google.com/github/nitheesh1213/nitheesh1213-ML-taitanic-data-training-1/blob/main/Kmeans_HW4.ipynb\" target=\"_parent\"><img src=\"https://colab.research.google.com/assets/colab-badge.svg\" alt=\"Open In Colab\"/></a>"
      ]
    },
    {
      "cell_type": "code",
      "metadata": {
        "id": "keYnV9_jn4Sl"
      },
      "source": [
        " import pandas as pd\n",
        "import numpy as np\n",
        "from copy import deepcopy\n",
        "import scipy.spatial.distance as dista\n",
        "from scipy import stats\n",
        "import itertools\n",
        "import time"
      ],
      "execution_count": 642,
      "outputs": []
    },
    {
      "cell_type": "markdown",
      "metadata": {
        "id": "DBjFY9k9qP5J"
      },
      "source": [
        "Task-1 -- Q1"
      ]
    },
    {
      "cell_type": "code",
      "metadata": {
        "id": "g-nzLBWGitFS"
      },
      "source": [
        "X = [[3, 5],[3, 4],[2, 8],[2, 3],[6, 2],[6, 4],[7, 3],[7, 4],[8, 5],[7, 6]]"
      ],
      "execution_count": 643,
      "outputs": []
    },
    {
      "cell_type": "code",
      "metadata": {
        "id": "P2QzG6Mx9WVe"
      },
      "source": [
        "def manhattan(a, b, ax=1):\n",
        "    return np.sum(np.abs(a - b), axis=ax)"
      ],
      "execution_count": 644,
      "outputs": []
    },
    {
      "cell_type": "code",
      "metadata": {
        "id": "Ha5EG2s59ZZz"
      },
      "source": [
        "def euclidean(a, b, ax=1):\n",
        "    return np.sum((a - b) ** 2, axis=ax)"
      ],
      "execution_count": 645,
      "outputs": []
    },
    {
      "cell_type": "code",
      "metadata": {
        "id": "Sp6znwKICipD"
      },
      "source": [
        "distanceMetric = {\"manhattan\": 0, \"euclidean\": 1}\n",
        "metrics = {\n",
        "    distanceMetric['manhattan']: manhattan,\n",
        "    distanceMetric['euclidean']: euclidean\n",
        "}"
      ],
      "execution_count": 646,
      "outputs": []
    },
    {
      "cell_type": "code",
      "metadata": {
        "id": "vi-yxbEmCmJS"
      },
      "source": [
        "def sse(X, clusters, C, metric=euclidean):\n",
        "    sse_value = 0\n",
        "    for i, centroid in enumerate(C):\n",
        "        sse_value += np.sum(metric(X[np.where(clusters == i)], centroid))\n",
        "    return sse_value"
      ],
      "execution_count": 647,
      "outputs": []
    },
    {
      "cell_type": "code",
      "metadata": {
        "id": "jkvZNMJaCuxn"
      },
      "source": [
        "def kmeans1(X, C, k=2, metric=distanceMetric['manhattan'], max_iter=100):\n",
        "    \n",
        "    OldC = np.ones(C.shape)\n",
        "    clusters = np.zeros(len(X))\n",
        "    metrics = {\n",
        "        distanceMetric['manhattan']: manhattan,\n",
        "        distanceMetric['euclidean']: euclidean\n",
        "    }\n",
        "    error = metrics[metric](C, OldC, None)\n",
        "    error = np.array(error)\n",
        "    count = 1\n",
        "    oldsse = 0\n",
        "    newsse = 0\n",
        "    while error.any() != 0:\n",
        "\n",
        "        for i in range(len(X)):\n",
        "            distances = metrics[metric](X[i], C)\n",
        "            cluster = np.argmin([distances])\n",
        "            clusters[i] = cluster\n",
        "        OldC = deepcopy(C)\n",
        "        newsse = sse(X, clusters, C)\n",
        "        for i in range(k):\n",
        "            points = [X[j] for j in range(len(X)) if clusters[j] == i]\n",
        "            C[i] = np.mean(points, axis=0)\n",
        "        error_old = deepcopy(error)\n",
        "        error = metrics[metric](C, OldC, None)\n",
        "        if count > 0:\n",
        "            if np.sum(error_old) == np.sum(error):\n",
        "                break\n",
        "        if count > max_iter + 1:\n",
        "            break\n",
        "        count = count + 1\n",
        "        oldsse = newsse\n",
        "    print (\"Centroid: \", [[C[0][0], C[0][1]], [C[1][0], C[1][1]]])\n",
        "    return clusters, count\n"
      ],
      "execution_count": 648,
      "outputs": []
    },
    {
      "cell_type": "code",
      "metadata": {
        "id": "gtoTBGZ0Cz6L"
      },
      "source": [
        "def create_cluster(sparse_data, nclust=10):\n",
        "    def euc_dist(X, Y=None, Y_norm_squared=None, squared=False):\n",
        "        return cosine_simaxiterlarity(X, Y)\n",
        "\n",
        "    k_means_.euclidean_distances = euc_dist\n",
        "\n",
        "    scaler = StandardScaler(with_mean=False)\n",
        "    sparse_data = scaler.fit_transform(sparse_data)\n",
        "    kmeans = k_means_.KMeans(n_clusters=nclust, n_jobs=20, random_state=3425)\n",
        "    _ = kmeans.fit(sparse_data)\n",
        "    return kmeans.labels_"
      ],
      "execution_count": 649,
      "outputs": []
    },
    {
      "cell_type": "code",
      "metadata": {
        "colab": {
          "base_uri": "https://localhost:8080/"
        },
        "id": "oDb2PXi7C6oX",
        "outputId": "bc01cb3d-8277-4f30-b154-ff26725315f6"
      },
      "source": [
        "f = [[3, 3, 2, 2, 6, 6, 7, 7, 8, 7], [5, 4, 8, 3, 2, 4, 3, 4, 5, 6]]\n",
        "f = np.transpose(f)\n",
        "c1 = [4,6]\n",
        "c2 = [5,4]\n",
        "C = np.array(list(zip([c1[0],c2[0]], [c1[1],c2[1]])), dtype=np.float)\n",
        "clusters, count = kmeans1(f,C, k=2, metric=distanceMetric['manhattan'], max_iter= 100)\n",
        "for i in range(2):\n",
        "  print(\"Cluster-\", i+1, \":\", np.array([f[j] for j in range(len(f)) if clusters[j] == i]))"
      ],
      "execution_count": 650,
      "outputs": [
        {
          "output_type": "stream",
          "name": "stdout",
          "text": [
            "Centroid:  [[4.0, 6.333333333333333], [5.571428571428571, 3.5714285714285716]]\n",
            "Cluster- 1 : [[3 5]\n",
            " [2 8]\n",
            " [7 6]]\n",
            "Cluster- 2 : [[3 4]\n",
            " [2 3]\n",
            " [6 2]\n",
            " [6 4]\n",
            " [7 3]\n",
            " [7 4]\n",
            " [8 5]]\n"
          ]
        }
      ]
    },
    {
      "cell_type": "markdown",
      "metadata": {
        "id": "Se5kgw0_Dge_"
      },
      "source": [
        "Task-1 -- Q2"
      ]
    },
    {
      "cell_type": "code",
      "metadata": {
        "colab": {
          "base_uri": "https://localhost:8080/"
        },
        "id": "ngMzfknoDoON",
        "outputId": "eee8f1e6-7135-4456-f71d-0d57a241ce0c"
      },
      "source": [
        "clusters, count = kmeans1(f,C, k=2, metric=distanceMetric['euclidean'], max_iter= 100)\n",
        "for i in range(2):\n",
        "  print(\"Cluster-\", i+1, \":\", np.array([f[j] for j in range(len(f)) if clusters[j] == i]))"
      ],
      "execution_count": 651,
      "outputs": [
        {
          "output_type": "stream",
          "name": "stdout",
          "text": [
            "Centroid:  [[2.5, 5.0], [6.833333333333333, 4.0]]\n",
            "Cluster- 1 : [[3 5]\n",
            " [3 4]\n",
            " [2 8]\n",
            " [2 3]]\n",
            "Cluster- 2 : [[6 2]\n",
            " [6 4]\n",
            " [7 3]\n",
            " [7 4]\n",
            " [8 5]\n",
            " [7 6]]\n"
          ]
        }
      ]
    },
    {
      "cell_type": "markdown",
      "metadata": {
        "id": "qVbb9cLnGIIQ"
      },
      "source": [
        "Task-1 -- Q3"
      ]
    },
    {
      "cell_type": "code",
      "metadata": {
        "colab": {
          "base_uri": "https://localhost:8080/"
        },
        "id": "hyfxL0t_GL-k",
        "outputId": "010af96d-4d8c-4882-bc75-25f899280821"
      },
      "source": [
        "c1 = [3,3]\n",
        "c2 = [8,3]\n",
        "C = np.array(list(zip([c1[0],c2[0]], [c1[1],c2[1]])), dtype=np.float)\n",
        "clusters, count = kmeans1(f,C, k=2, metric=distanceMetric['manhattan'], max_iter= 100)\n",
        "for i in range(2):\n",
        "  print(\"Cluster-\", i+1, \":\", np.array([f[j] for j in range(len(f)) if clusters[j] == i]))"
      ],
      "execution_count": 652,
      "outputs": [
        {
          "output_type": "stream",
          "name": "stdout",
          "text": [
            "Centroid:  [[2.5, 5.0], [6.833333333333333, 4.0]]\n",
            "Cluster- 1 : [[3 5]\n",
            " [3 4]\n",
            " [2 8]\n",
            " [2 3]]\n",
            "Cluster- 2 : [[6 2]\n",
            " [6 4]\n",
            " [7 3]\n",
            " [7 4]\n",
            " [8 5]\n",
            " [7 6]]\n"
          ]
        }
      ]
    },
    {
      "cell_type": "markdown",
      "metadata": {
        "id": "gg4PMKJyJe_9"
      },
      "source": [
        "Task-1 --Q4"
      ]
    },
    {
      "cell_type": "code",
      "metadata": {
        "colab": {
          "base_uri": "https://localhost:8080/"
        },
        "id": "5nzaZlR1Ji-8",
        "outputId": "a9328462-c85f-4cd9-f607-e66070b829ea"
      },
      "source": [
        "c1 = [3,2]\n",
        "c2 = [4,8]\n",
        "C = np.array(list(zip([c1[0],c2[0]], [c1[1],c2[1]])), dtype=np.float)\n",
        "clusters, count = kmeans1(f,C, k=2, metric=distanceMetric['manhattan'], max_iter= 100)\n",
        "for i in range(2):\n",
        "  print(\"Cluster-\", i+1, \":\", np.array([f[j] for j in range(len(f)) if clusters[j] == i]))"
      ],
      "execution_count": 653,
      "outputs": [
        {
          "output_type": "stream",
          "name": "stdout",
          "text": [
            "Centroid:  [[4.857142857142857, 3.5714285714285716], [5.666666666666667, 6.333333333333333]]\n",
            "Cluster- 1 : [[3 5]\n",
            " [3 4]\n",
            " [2 3]\n",
            " [6 2]\n",
            " [6 4]\n",
            " [7 3]\n",
            " [7 4]]\n",
            "Cluster- 2 : [[2 8]\n",
            " [8 5]\n",
            " [7 6]]\n"
          ]
        }
      ]
    },
    {
      "cell_type": "markdown",
      "metadata": {
        "id": "FYQmgMwDd0RW"
      },
      "source": [
        "Task - 2"
      ]
    },
    {
      "cell_type": "code",
      "metadata": {
        "colab": {
          "base_uri": "https://localhost:8080/"
        },
        "id": "qVRPVUVtd6Ru",
        "outputId": "2fd4992a-51ae-40af-ca60-da5fec542d30"
      },
      "source": [
        "data = pd.read_csv(\"data.csv\")\n",
        "labels = pd.read_csv(\"label.csv\")\n",
        "data = data.to_numpy(dtype=float)\n",
        "labels = labels.to_numpy(dtype=int)\n",
        "y = np.concatenate( labels, axis=0 )\n",
        "print(np.concatenate( labels, axis=0 ))"
      ],
      "execution_count": 654,
      "outputs": [
        {
          "output_type": "stream",
          "name": "stdout",
          "text": [
            "[2 1 0 ... 4 5 6]\n"
          ]
        }
      ]
    },
    {
      "cell_type": "code",
      "metadata": {
        "id": "__fBH7dy0DX7"
      },
      "source": [
        "def cosine(a,b, ax=1):\n",
        "    c = 0\n",
        "    if a.ndim != 1:\n",
        "         for i in range(10):\n",
        "             c = c + dista.cosine(a[i],b[i])\n",
        "         return c\n",
        "    else :\n",
        "        ci = [0,0,0,0,0,0,0,0,0,0]\n",
        "        for i in range(10) :\n",
        "            ci[i] = dista.cosine(a,b[i])\n",
        "        return np.asarray(ci, dtype = np.float32)"
      ],
      "execution_count": 655,
      "outputs": []
    },
    {
      "cell_type": "code",
      "metadata": {
        "id": "PD3XAeR4h6Lp"
      },
      "source": [
        "def jaccard(a, b, ax=1):\n",
        "    return (1 - np.sum(np.minimum(a, b), axis=ax) / np.sum(np.maximum(a, b), axis=ax))"
      ],
      "execution_count": 656,
      "outputs": []
    },
    {
      "cell_type": "code",
      "metadata": {
        "id": "xot0ORb-im8T"
      },
      "source": [
        "distanceMetric = {\"manhattan\": 0, \"euclidean\": 1, \"cosine\": 2, \"jaccard\": 3}\n",
        "metrics = {\n",
        "    distanceMetric['manhattan']: manhattan,\n",
        "    distanceMetric['euclidean']: euclidean,\n",
        "    distanceMetric['cosine']: cosine,\n",
        "    distanceMetric['jaccard']: jaccard\n",
        "}"
      ],
      "execution_count": 657,
      "outputs": []
    },
    {
      "cell_type": "code",
      "metadata": {
        "id": "asK2vOIChPd6"
      },
      "source": [
        "def kmeans2 (X, C, k=2, metric=distanceMetric['manhattan'], max_iter=100):\n",
        "    start = time.time()\n",
        "    np.random.seed(99)\n",
        "    if C is None:\n",
        "        C = X[np.random.choice(len(X), size=k, replace=False)]\n",
        "    OldC = np.ones(C.shape)\n",
        "    clusters = np.zeros(len(X))\n",
        "    metrics = {\n",
        "        distanceMetric['manhattan']: manhattan,\n",
        "        distanceMetric['euclidean']: euclidean,\n",
        "        distanceMetric['cosine']: cosine,\n",
        "        distanceMetric['jaccard']: jaccard\n",
        "    }\n",
        "    error = metrics[metric](C, OldC, None)\n",
        "    error = np.array(error)\n",
        "    count = 1\n",
        "    oldsse = 0\n",
        "    newsse = 0\n",
        "    while error.any() != 0:\n",
        "\n",
        "        for i in range(len(X)):\n",
        "            distances = metrics[metric](X[i], C)\n",
        "            cluster = np.argmin([distances])\n",
        "            clusters[i] = cluster\n",
        "\n",
        "        OldC = deepcopy(C)\n",
        "        newsse = sse(X, clusters, C)\n",
        "        ##print('Iteration : {}'.format(count))\n",
        "        #print('Current SSE : {}'.format(newsse))\n",
        "        #print('Previous SSE : {}:'.format(oldsse))\n",
        "        for i in range(k):\n",
        "            points = [X[j] for j in range(len(X)) if clusters[j] == i]\n",
        "            C[i] = np.mean(points, axis=0)\n",
        "        error_old = deepcopy(error)\n",
        "        error = metrics[metric](C, OldC, None)\n",
        "        if count > 0:\n",
        "            if np.sum(error_old) == np.sum(error):\n",
        "                break\n",
        "            elif (oldsse > 0) and (newsse > oldsse ) :\n",
        "                break\n",
        "        if count > max_iter + 1:\n",
        "            break\n",
        "        count = count + 1\n",
        "        oldsse = newsse\n",
        "    print(\"SSN:\",newsse)\n",
        "    print(\"Time taken:\", time.time() - start)\n",
        "    return clusters, count"
      ],
      "execution_count": 658,
      "outputs": []
    },
    {
      "cell_type": "code",
      "metadata": {
        "id": "0tEbnqlCi8ip"
      },
      "source": [
        "def predict(clusters, labels,  k=10):\n",
        "    indexes = []\n",
        "    for i in range(k):\n",
        "        indexes.append(np.where(clusters == i))\n",
        "    for cluster in indexes:\n",
        "        mode = int(stats.mode(y[cluster])[0])\n",
        "        clusters[cluster] = mode\n",
        "    return clusters"
      ],
      "execution_count": 659,
      "outputs": []
    },
    {
      "cell_type": "code",
      "metadata": {
        "id": "vO4UcsPljJJ6",
        "colab": {
          "base_uri": "https://localhost:8080/"
        },
        "outputId": "40951f35-24f7-44a9-a333-df155061e0dc"
      },
      "source": [
        "print (\"Euclidean:\")\n",
        "clusters, count = kmeans2(data, C =None, k=10, metric = distanceMetric['euclidean'], max_iter = 100)\n",
        "from sklearn import metrics\n",
        "pval = predict(clusters,y)\n",
        "acc = metrics.accuracy_score(y,pval)\n",
        "print (\"Accuracy of Euclidean:\",acc *100)\n",
        "print(\"Number of Iterations for Euclidean:\", count)"
      ],
      "execution_count": 660,
      "outputs": [
        {
          "output_type": "stream",
          "name": "stdout",
          "text": [
            "Euclidean:\n",
            "SSN: 25321772611.926792\n",
            "Time taken: 26.537851095199585\n",
            "Accuracy of Euclidean: 60.17601760176018\n",
            "Number of Iterations for Euclidean: 43\n"
          ]
        }
      ]
    },
    {
      "cell_type": "code",
      "metadata": {
        "id": "fuANIaPmsN4H",
        "colab": {
          "base_uri": "https://localhost:8080/"
        },
        "outputId": "4b748593-c686-430c-8914-422dcf5a4485"
      },
      "source": [
        "print (\"jaccard:\")\n",
        "clusters,count = kmeans2(data, C= None, k = 10, metric = distanceMetric['jaccard'], max_iter = 100)\n",
        "pval  = predict(clusters,y)\n",
        "acc = metrics.accuracy_score(y,pval)\n",
        "print(\"Accuracy of Jaccard:\",acc*100)\n",
        "print(\"Number of Iterations for Jaccard:\", count)"
      ],
      "execution_count": 661,
      "outputs": [
        {
          "output_type": "stream",
          "name": "stdout",
          "text": [
            "jaccard:\n",
            "SSN: 25447746986.46619\n",
            "Time taken: 27.45010209083557\n",
            "Accuracy of Jaccard: 61.21612161216121\n",
            "Number of Iterations for Jaccard: 24\n"
          ]
        }
      ]
    },
    {
      "cell_type": "code",
      "metadata": {
        "id": "7u2NmRpzyRn-",
        "colab": {
          "base_uri": "https://localhost:8080/"
        },
        "outputId": "cb464f82-d86d-45f2-b75d-fbb78838e8f0"
      },
      "source": [
        "print (\"cosine:\")\n",
        "clusters,count = kmeans2(data, C= None, k = 10, metric = distanceMetric['cosine'], max_iter = 100)\n",
        "pval = predict(clusters,y)\n",
        "acc = metrics.accuracy_score(y,pval)\n",
        "print(\"Accuracy of Cosine:\",acc*100)\n",
        "print(\"Number of Iterations for Cosine:\", count)"
      ],
      "execution_count": 662,
      "outputs": [
        {
          "output_type": "stream",
          "name": "stdout",
          "text": [
            "cosine:\n",
            "SSN: 25466035348.593903\n",
            "Time taken: 143.83624649047852\n",
            "Accuracy of Cosine: 60.966096609660966\n",
            "Number of Iterations for Cosine: 31\n"
          ]
        }
      ]
    },
    {
      "cell_type": "markdown",
      "metadata": {
        "id": "n7ZykLremgxs"
      },
      "source": [
        "Task - 3 (Using Basic 'for' loops to calculate distance between points.)"
      ]
    },
    {
      "cell_type": "code",
      "metadata": {
        "id": "qhQYu7Hfm3cQ",
        "colab": {
          "base_uri": "https://localhost:8080/"
        },
        "outputId": "694f1727-f67a-4c98-8a1c-13bb571d12c8"
      },
      "source": [
        "x = [4.6, 4.7, 4.9, 5.0, 5.9, 6.0, 6.2, 6.7]\n",
        "y = [2.9, 3.2, 3.1, 3.0, 3.2, 3.0, 2.8, 3.1]\n",
        "dictn = {\"x\" : x, \"y\" : y}\n",
        "dftask3 = pd.DataFrame(dictn)\n",
        "datapoints = np.array([(4.7,3.2),(4.6,2.9),(4.9,3.1),(5.0,3.0),(5.9,3.2),(6.0,3.0),(6.2,2.8),(6.7,3.1)])\n",
        "mindistance = 10;\n",
        "maxdistance = 0;\n",
        "min_points = [];\n",
        "max_points = [];\n",
        "avgdistance = 0;\n",
        "totalpair = 0;\n",
        "for i in range(0, len(datapoints)):\n",
        "    for j in range(i+1, len(datapoints)):\n",
        "        dist = np.sqrt((dftask3['x'][i] - dftask3['x'][j]) ** 2\n",
        "                    + (dftask3['y'][i] - dftask3['y'][j]) ** 2\n",
        "                )\n",
        "        avgdistance = avgdistance + dist\n",
        "        totalpair = totalpair + 1\n",
        "        if(mindistance > dist):\n",
        "            mindistance = dist\n",
        "            min_points = np.array([(dftask3['x'][i],dftask3['y'][i]),(dftask3['x'][j],dftask3['y'][j])])\n",
        "        if(maxdistance < dist):\n",
        "            maxdistance = dist\n",
        "            max_points = np.array([(dftask3['x'][i],dftask3['y'][i]),(dftask3['x'][j],dftask3['y'][j])])\n",
        "        print(\"points:\")\n",
        "        print((dftask3['x'][i],dftask3['y'][i]))\n",
        "        print((dftask3['x'][j],dftask3['y'][j]))\n",
        "        print(\"Distance = \"+ str(dist))\n",
        "print(\"Minimum:\")\n",
        "print(min_points)\n",
        "print(\"Distance = \"+ str(mindistance))\n",
        "print(\"maximum:\")\n",
        "print(max_points)\n",
        "print(\"Distance = \"+ str(maxdistance))\n",
        "print(\"average distance between all pairs : \" + str(avgdistance/totalpair))"
      ],
      "execution_count": 663,
      "outputs": [
        {
          "output_type": "stream",
          "name": "stdout",
          "text": [
            "points:\n",
            "(4.6, 2.9)\n",
            "(4.7, 3.2)\n",
            "Distance = 0.3162277660168384\n",
            "points:\n",
            "(4.6, 2.9)\n",
            "(4.9, 3.1)\n",
            "Distance = 0.3605551275463996\n",
            "points:\n",
            "(4.6, 2.9)\n",
            "(5.0, 3.0)\n",
            "Distance = 0.4123105625617664\n",
            "points:\n",
            "(4.6, 2.9)\n",
            "(5.9, 3.2)\n",
            "Distance = 1.3341664064126342\n",
            "points:\n",
            "(4.6, 2.9)\n",
            "(6.0, 3.0)\n",
            "Distance = 1.4035668847618203\n",
            "points:\n",
            "(4.6, 2.9)\n",
            "(6.2, 2.8)\n",
            "Distance = 1.6031219541881403\n",
            "points:\n",
            "(4.6, 2.9)\n",
            "(6.7, 3.1)\n",
            "Distance = 2.109502310972899\n",
            "points:\n",
            "(4.7, 3.2)\n",
            "(4.9, 3.1)\n",
            "Distance = 0.22360679774997916\n",
            "points:\n",
            "(4.7, 3.2)\n",
            "(5.0, 3.0)\n",
            "Distance = 0.3605551275463989\n",
            "points:\n",
            "(4.7, 3.2)\n",
            "(5.9, 3.2)\n",
            "Distance = 1.2000000000000002\n",
            "points:\n",
            "(4.7, 3.2)\n",
            "(6.0, 3.0)\n",
            "Distance = 1.3152946437965904\n",
            "points:\n",
            "(4.7, 3.2)\n",
            "(6.2, 2.8)\n",
            "Distance = 1.5524174696260025\n",
            "points:\n",
            "(4.7, 3.2)\n",
            "(6.7, 3.1)\n",
            "Distance = 2.0024984394500787\n",
            "points:\n",
            "(4.9, 3.1)\n",
            "(5.0, 3.0)\n",
            "Distance = 0.1414213562373093\n",
            "points:\n",
            "(4.9, 3.1)\n",
            "(5.9, 3.2)\n",
            "Distance = 1.004987562112089\n",
            "points:\n",
            "(4.9, 3.1)\n",
            "(6.0, 3.0)\n",
            "Distance = 1.1045361017187258\n",
            "points:\n",
            "(4.9, 3.1)\n",
            "(6.2, 2.8)\n",
            "Distance = 1.3341664064126333\n",
            "points:\n",
            "(4.9, 3.1)\n",
            "(6.7, 3.1)\n",
            "Distance = 1.7999999999999998\n",
            "points:\n",
            "(5.0, 3.0)\n",
            "(5.9, 3.2)\n",
            "Distance = 0.9219544457292891\n",
            "points:\n",
            "(5.0, 3.0)\n",
            "(6.0, 3.0)\n",
            "Distance = 1.0\n",
            "points:\n",
            "(5.0, 3.0)\n",
            "(6.2, 2.8)\n",
            "Distance = 1.216552506059644\n",
            "points:\n",
            "(5.0, 3.0)\n",
            "(6.7, 3.1)\n",
            "Distance = 1.7029386365926404\n",
            "points:\n",
            "(5.9, 3.2)\n",
            "(6.0, 3.0)\n",
            "Distance = 0.22360679774997896\n",
            "points:\n",
            "(5.9, 3.2)\n",
            "(6.2, 2.8)\n",
            "Distance = 0.5000000000000001\n",
            "points:\n",
            "(5.9, 3.2)\n",
            "(6.7, 3.1)\n",
            "Distance = 0.8062257748298548\n",
            "points:\n",
            "(6.0, 3.0)\n",
            "(6.2, 2.8)\n",
            "Distance = 0.2828427124746193\n",
            "points:\n",
            "(6.0, 3.0)\n",
            "(6.7, 3.1)\n",
            "Distance = 0.7071067811865478\n",
            "points:\n",
            "(6.2, 2.8)\n",
            "(6.7, 3.1)\n",
            "Distance = 0.5830951894845302\n",
            "Minimum:\n",
            "[[4.9 3.1]\n",
            " [5.  3. ]]\n",
            "Distance = 0.1414213562373093\n",
            "maximum:\n",
            "[[4.6 2.9]\n",
            " [6.7 3.1]]\n",
            "Distance = 2.109502310972899\n",
            "average distance between all pairs : 0.9829734914720506\n"
          ]
        }
      ]
    }
  ]
}