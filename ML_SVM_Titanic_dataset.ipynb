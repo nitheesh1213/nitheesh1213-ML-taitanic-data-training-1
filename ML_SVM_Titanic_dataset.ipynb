{
  "nbformat": 4,
  "nbformat_minor": 0,
  "metadata": {
    "colab": {
      "name": "ML_SVM_Titanic_dataset.ipynb",
      "provenance": [],
      "authorship_tag": "ABX9TyNbg3eB8hKEGAJyrHSK/Cix",
      "include_colab_link": true
    },
    "kernelspec": {
      "name": "python3",
      "display_name": "Python 3"
    },
    "language_info": {
      "name": "python"
    }
  },
  "cells": [
    {
      "cell_type": "markdown",
      "metadata": {
        "id": "view-in-github",
        "colab_type": "text"
      },
      "source": [
        "<a href=\"https://colab.research.google.com/github/nitheesh1213/nitheesh1213-ML-taitanic-data-training-1/blob/main/ML_SVM_Titanic_dataset.ipynb\" target=\"_parent\"><img src=\"https://colab.research.google.com/assets/colab-badge.svg\" alt=\"Open In Colab\"/></a>"
      ]
    },
    {
      "cell_type": "code",
      "metadata": {
        "id": "02FolFNy9Nxa"
      },
      "source": [
        "import pandas as pd\n",
        "import numpy as np\n",
        "import re\n",
        "from sklearn import svm"
      ],
      "execution_count": 10,
      "outputs": []
    },
    {
      "cell_type": "code",
      "metadata": {
        "id": "LBSGsoWG9jBs"
      },
      "source": [
        "train_data = pd.read_csv('train.csv')\n",
        "test_data = pd.read_csv('test.csv')"
      ],
      "execution_count": 6,
      "outputs": []
    },
    {
      "cell_type": "code",
      "metadata": {
        "id": "Dl4i49xx9nvs"
      },
      "source": [
        "# Pre process complete training and testing data\n",
        "\n",
        "# 1.Changing sex to 0's and 1's \n",
        "train_data['Sex'] = train_data['Sex'].map( {'female': 0, 'male': 1} ).astype(int)\n",
        "test_data['Sex'] = test_data['Sex'].map( {'female': 0, 'male': 1} ).astype(int)\n",
        "\n",
        "# 2.Remove all NULLS in the Age column in train data\n",
        "train_average_age = train_data['Age'].mean()\n",
        "train_data.loc[np.isnan(train_data['Age']), 'Age'] = train_average_age\n",
        "\n",
        "# 3.Remove all NULLS in the Age column in test data\n",
        "test_average_age = test_data['Age'].mean()\n",
        "test_data.loc[np.isnan(test_data['Age']), 'Age'] = test_average_age\n",
        "\n",
        "# 4.Making Age as Int\n",
        "train_data['Age'] = train_data['Age'].astype(int)\n",
        "test_data['Age'] = test_data['Age'].astype(int)\n",
        "\n",
        "# 5.Making continuos Age to discrete for train data\n",
        "train_data.loc[train_data['Age'] <= 15, 'Age'] = 0\n",
        "train_data.loc[(train_data['Age'] > 15) & (train_data['Age'] <= 30), 'Age'] = 1\n",
        "train_data.loc[(train_data['Age'] > 30) & (train_data['Age'] <= 45), 'Age'] = 2\n",
        "train_data.loc[(train_data['Age'] > 45) & (train_data['Age'] <= 60), 'Age'] = 3\n",
        "train_data.loc[train_data['Age'] > 60, 'Age'] = 4\n",
        "\n",
        "# 6.Making continuos Age to discrete for test data\n",
        "test_data.loc[train_data['Age'] <= 15, 'Age'] = 0\n",
        "test_data.loc[(test_data['Age'] > 15) & (test_data['Age'] <= 30), 'Age'] = 1\n",
        "test_data.loc[(test_data['Age'] > 30) & (test_data['Age'] <= 45), 'Age'] = 2\n",
        "test_data.loc[(test_data['Age'] > 45) & (test_data['Age'] <= 60), 'Age'] = 3\n",
        "test_data.loc[test_data['Age'] > 60, 'Age'] = 4\n",
        "\n",
        "# 7.Making continuos Fare to discrete for train data\n",
        "train_data['Fare'] = train_data['Fare'].fillna(train_data['Fare'].mean())\n",
        "train_data.loc[train_data['Fare'] <= 10, 'Fare'] = 0\n",
        "train_data.loc[(train_data['Fare'] > 10) & (train_data['Fare'] <= 20), 'Fare'] = 1\n",
        "train_data.loc[(train_data['Fare'] > 20) & (train_data['Fare'] <= 100), 'Fare'] = 2\n",
        "train_data.loc[train_data['Fare'] > 100, 'Fare'] = 3\n",
        "\n",
        "# 8.Making continuos Fare to discrete for test data\n",
        "test_data['Fare'] = test_data['Fare'].fillna(test_data['Fare'].mean())\n",
        "test_data.loc[test_data['Fare'] <= 10, 'Fare'] = 0\n",
        "test_data.loc[(test_data['Fare'] > 10) & (test_data['Fare'] <= 20), 'Fare'] = 1\n",
        "test_data.loc[(test_data['Fare'] > 20) & (test_data['Fare'] <= 100), 'Fare'] = 2\n",
        "test_data.loc[test_data['Fare'] > 100, 'Fare'] = 3\n",
        "\n",
        "# 9.Making Fare as Int\n",
        "train_data['Fare'] = train_data['Fare'].astype(int)\n",
        "test_data['Fare'] = test_data['Fare'].astype(int)\n",
        "\n",
        "# 10. Dropping unwanted variables\n",
        "train_data = train_data.drop(columns=['PassengerId', 'Name', 'Ticket', 'Cabin'])\n",
        "test_data = test_data.drop(columns=['PassengerId', 'Name', 'Ticket', 'Cabin'])\n",
        "\n",
        "# 11. Changing Embarked to Int\n",
        "train_data['Embarked'] = train_data['Embarked'].fillna('S')\n",
        "test_data['Embarked'] = test_data['Embarked'].fillna('S')\n",
        "train_data['Embarked'] = train_data['Embarked'].map( {'S': 0, 'C': 1, 'Q': 2} ).astype(int)\n",
        "test_data['Embarked'] = test_data['Embarked'].map( {'S': 0, 'C': 1, 'Q': 2} ).astype(int)"
      ],
      "execution_count": 7,
      "outputs": []
    },
    {
      "cell_type": "code",
      "metadata": {
        "colab": {
          "base_uri": "https://localhost:8080/"
        },
        "id": "h9tzWPbB-O-Q",
        "outputId": "74625370-73d3-4402-ba01-ee22f2dbffb4"
      },
      "source": [
        "# Training the data\n",
        "f = train_data.drop(\"Survived\", axis=1)\n",
        "t = train_data[\"Survived\"]\n",
        "X_train, X_test, y_train, y_test = train_test_split(f,t,test_size=0.5,random_state=0)\n",
        "X_train.shape, X_test.shape, y_train.shape, y_test.shape"
      ],
      "execution_count": 8,
      "outputs": [
        {
          "output_type": "execute_result",
          "data": {
            "text/plain": [
              "((445, 7), (446, 7), (445,), (446,))"
            ]
          },
          "metadata": {},
          "execution_count": 8
        }
      ]
    },
    {
      "cell_type": "code",
      "metadata": {
        "colab": {
          "base_uri": "https://localhost:8080/"
        },
        "id": "qTrNq29M-mdn",
        "outputId": "ba36b33f-575c-449a-b779-2abb31865e74"
      },
      "source": [
        "# Linear Kernel\n",
        "linearSVM = svm.SVC(kernel='linear')\n",
        "linearSVM.fit(X_train, y_train.ravel());\n",
        "lkAccuracy = cross_val_score(linearSVM, X_train, y_train.ravel(), cv=5, scoring='accuracy').mean()\n",
        "# Polynomial Kernel\n",
        "polySVM = svm.SVC(kernel='poly', degree=2)\n",
        "polySVM.fit(X_train, y_train.ravel());\n",
        "pAccuracy = cross_val_score(polySVM, X_train, y_train.ravel(), cv=5, scoring='accuracy').mean()\n",
        "# RBF Kernal\n",
        "rbfSVM = svm.SVC(kernel='rbf')\n",
        "rbfSVM.fit(X_train, y_train.ravel());\n",
        "rbfAccuracy = cross_val_score(rbfSVM, X_train, y_train.ravel(), cv=5, scoring='accuracy').mean()\n",
        "print(\"Linear Kernel Accuracy:\", lkAccuracy)\n",
        "print(\"polynomial Kernel Accuracy:\", pAccuracy)\n",
        "print(\"RBF Kernel Accuracy:\", rbfAccuracy)"
      ],
      "execution_count": 21,
      "outputs": [
        {
          "output_type": "stream",
          "name": "stdout",
          "text": [
            "Linear Kernel Accuracy: 0.7910112359550562\n",
            "polynomial Kernel Accuracy: 0.7977528089887641\n",
            "RBF Kernel Accuracy: 0.8179775280898877\n"
          ]
        }
      ]
    }
  ]
}